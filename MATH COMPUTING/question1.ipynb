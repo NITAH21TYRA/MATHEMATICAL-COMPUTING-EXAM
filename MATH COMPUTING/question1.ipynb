{
 "cells": [
  {
   "cell_type": "code",
   "execution_count": 5,
   "metadata": {},
   "outputs": [
    {
     "name": "stdout",
     "output_type": "stream",
     "text": [
      "[[1.  0.2 0.5]\n",
      " [0.2 1.  0.8]\n",
      " [0.5 0.8 1. ]]\n"
     ]
    }
   ],
   "source": [
    "#Question 1 \n",
    "# (a)\n",
    "import numpy as np\n",
    "matrix = np.array([[1,0.2,0.5],[0.2,1,0.8],[0.5,0.8,1]])\n",
    "print(matrix)"
   ]
  },
  {
   "cell_type": "code",
   "execution_count": 6,
   "metadata": {},
   "outputs": [
    {
     "name": "stdout",
     "output_type": "stream",
     "text": [
      "[[1.  0.2 0.5]\n",
      " [0.2 1.  0.8]\n",
      " [0.5 0.8 1. ]]\n"
     ]
    }
   ],
   "source": [
    "#Transpose of the matrix\n",
    "T = np.transpose(matrix)\n",
    "print(T)"
   ]
  },
  {
   "cell_type": "code",
   "execution_count": 8,
   "metadata": {},
   "outputs": [
    {
     "name": "stdout",
     "output_type": "stream",
     "text": [
      "0.2299999999999999\n"
     ]
    }
   ],
   "source": [
    "#Determinant of the matrix\n",
    "det_matrix=np.linalg.det(matrix)\n",
    "print(det_matrix)"
   ]
  },
  {
   "cell_type": "code",
   "execution_count": 9,
   "metadata": {},
   "outputs": [
    {
     "name": "stdout",
     "output_type": "stream",
     "text": [
      "SVDResult(U=array([[-0.43721717,  0.85359707, -0.28321933],\n",
      "       [-0.59931898, -0.51133314, -0.61591816],\n",
      "       [-0.67056536, -0.09955128,  0.73514055]]), S=array([2.04100779, 0.82188052, 0.13711169]), Vh=array([[-0.43721717, -0.59931898, -0.67056536],\n",
      "       [ 0.85359707, -0.51133314, -0.09955128],\n",
      "       [-0.28321933, -0.61591816,  0.73514055]]))\n"
     ]
    }
   ],
   "source": [
    "#Decompose the matrix\n",
    "decomposed_matrix=np.linalg.svd(matrix)\n",
    "print(decomposed_matrix)"
   ]
  },
  {
   "cell_type": "code",
   "execution_count": 11,
   "metadata": {},
   "outputs": [
    {
     "name": "stdout",
     "output_type": "stream",
     "text": [
      "[[0.5 0.8 1. ]\n",
      " [0.2 1.  0.8]\n",
      " [1.  0.2 0.5]]\n"
     ]
    }
   ],
   "source": [
    "#Transform the matrix\n",
    "transformed_matrix=np.rot90(matrix)\n",
    "print(transformed_matrix)"
   ]
  }
 ],
 "metadata": {
  "kernelspec": {
   "display_name": "Python 3",
   "language": "python",
   "name": "python3"
  },
  "language_info": {
   "codemirror_mode": {
    "name": "ipython",
    "version": 3
   },
   "file_extension": ".py",
   "mimetype": "text/x-python",
   "name": "python",
   "nbconvert_exporter": "python",
   "pygments_lexer": "ipython3",
   "version": "3.11.4"
  }
 },
 "nbformat": 4,
 "nbformat_minor": 2
}
